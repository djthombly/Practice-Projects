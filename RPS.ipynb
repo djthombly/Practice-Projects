{
 "cells": [
  {
   "cell_type": "code",
   "execution_count": null,
   "id": "0f4c627d-b87c-4297-a2c5-787f755721f7",
   "metadata": {},
   "outputs": [],
   "source": [
    "#Coded by djthombly on 7/20/24.\n",
    "\n",
    "choices = [\"rock\", \"paper\", \"scissors\"]\n",
    "\n",
    "print(\"Let's play Rock, Paper, Scissors!\")\n",
    "\n",
    "player_one = str(input(\"Player 1, please choose rock, paper, or scissors: \"))\n",
    "\n",
    "while player_one not in choices:\n",
    "    player_one = str(input(\"Invalid choice. Please choose rock, paper, or scissors: \"))\n",
    "\n",
    "player_two = str(input(\"Player 2, please choose rock, paper, or scissors: \"))\n",
    "\n",
    "while player_two not in choices:\n",
    "    player_two = str(input(\"Invalid choice. Please choose rock, paper, or scissors: \"))\n",
    "\n",
    "if player_one == player_two:\n",
    "    print(\"It's a tie!\")\n",
    "\n",
    "elif player_one == \"rock\" and player_two == \"scissors\":\n",
    "    print (\"Player 1 wins!\")\n",
    "\n",
    "elif player_one == \"paper\" and player_two == \"rock\":\n",
    "    print (\"Player 1 wins!\")\n",
    "\n",
    "elif player_one == \"scissors\" and player_one == \"rock\":\n",
    "    print (\"Player 1 wins!\")\n",
    "\n",
    "else:\n",
    "    print(\"Player 2 wins!\")"
   ]
  }
 ],
 "metadata": {
  "kernelspec": {
   "display_name": "Python 3 (ipykernel)",
   "language": "python",
   "name": "python3"
  },
  "language_info": {
   "codemirror_mode": {
    "name": "ipython",
    "version": 3
   },
   "file_extension": ".py",
   "mimetype": "text/x-python",
   "name": "python",
   "nbconvert_exporter": "python",
   "pygments_lexer": "ipython3",
   "version": "3.12.2"
  }
 },
 "nbformat": 4,
 "nbformat_minor": 5
}
