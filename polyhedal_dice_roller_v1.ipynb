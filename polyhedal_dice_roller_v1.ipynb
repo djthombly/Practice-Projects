{
 "cells": [
  {
   "cell_type": "code",
   "execution_count": 5,
   "id": "819b331d-92ed-446d-80d5-e81de3d753b7",
   "metadata": {},
   "outputs": [
    {
     "name": "stdin",
     "output_type": "stream",
     "text": [
      "What dice would you like to roll?\n",
      "d4, d6, d8, d10, d12, d20, d100 fd\n",
      "Invalid choice.\n",
      "Choose d4, d6, d8, d10, d12, d20, d100 d4\n"
     ]
    },
    {
     "name": "stdout",
     "output_type": "stream",
     "text": [
      "Roll: 1\n"
     ]
    },
    {
     "name": "stdin",
     "output_type": "stream",
     "text": [
      "\n",
      "Do you want to roll again? yes or no: \n",
      " yes\n",
      "What dice would you like to roll?\n",
      "d4, d6, d8, d10, d12, d20, d100 d6\n"
     ]
    },
    {
     "name": "stdout",
     "output_type": "stream",
     "text": [
      "Roll: 1\n"
     ]
    },
    {
     "name": "stdin",
     "output_type": "stream",
     "text": [
      "\n",
      "Do you want to roll again? yes or no: \n",
      " yes\n",
      "What dice would you like to roll?\n",
      "d4, d6, d8, d10, d12, d20, d100 d10\n"
     ]
    },
    {
     "name": "stdout",
     "output_type": "stream",
     "text": [
      "Roll: 9\n"
     ]
    },
    {
     "name": "stdin",
     "output_type": "stream",
     "text": [
      "\n",
      "Do you want to roll again? yes or no: \n",
      " yes\n",
      "What dice would you like to roll?\n",
      "d4, d6, d8, d10, d12, d20, d100 d12\n"
     ]
    },
    {
     "name": "stdout",
     "output_type": "stream",
     "text": [
      "Roll: 12\n"
     ]
    },
    {
     "name": "stdin",
     "output_type": "stream",
     "text": [
      "\n",
      "Do you want to roll again? yes or no: \n",
      " yes\n",
      "What dice would you like to roll?\n",
      "d4, d6, d8, d10, d12, d20, d100 d20\n"
     ]
    },
    {
     "name": "stdout",
     "output_type": "stream",
     "text": [
      "Roll: 19\n"
     ]
    },
    {
     "name": "stdin",
     "output_type": "stream",
     "text": [
      "\n",
      "Do you want to roll again? yes or no: \n",
      " yes\n",
      "What dice would you like to roll?\n",
      "d4, d6, d8, d10, d12, d20, d100 d100\n"
     ]
    },
    {
     "name": "stdout",
     "output_type": "stream",
     "text": [
      "Roll: 96\n"
     ]
    },
    {
     "name": "stdin",
     "output_type": "stream",
     "text": [
      "\n",
      "Do you want to roll again? yes or no: \n",
      " no\n"
     ]
    },
    {
     "name": "stdout",
     "output_type": "stream",
     "text": [
      "\n",
      "Done\n"
     ]
    }
   ],
   "source": [
    "import random\n",
    "\n",
    "poly_dice_set = ['d4', 'd6', 'd8', 'd10', 'd12', 'd20', 'd100']\n",
    "\n",
    "def dice_roll():\n",
    "    dice_roll = True\n",
    "    while dice_roll == True:\n",
    "        d4_dice = random.randint(1,4)\n",
    "        d6_dice = random.randint(1,6)\n",
    "        d8_dice = random.randint(1,8)\n",
    "        d10_dice = random.randint(1,10)\n",
    "        d12_dice = random.randint(1,12)\n",
    "        d20_dice = random.randint(1,20)\n",
    "        d100_dice = random.randint(1,100)\n",
    "        user_roll = input('What dice would you like to roll?\\nd4, d6, d8, d10, d12, d20, d100')\n",
    "        if user_roll.lower() == 'done':\n",
    "            print(\"\\nDone\")\n",
    "            break\n",
    "        if user_roll.lower() not in poly_dice_set:\n",
    "            user_roll = input('Invalid choice.\\nChoose d4, d6, d8, d10, d12, d20, d100')\n",
    "        if user_roll.lower() == 'd4':\n",
    "            print('Roll: ' + str(d4_dice))\n",
    "        elif user_roll.lower() == 'd6':\n",
    "            print('Roll: ' + str(d6_dice))\n",
    "        elif user_roll.lower() == 'd8':\n",
    "            print('Roll: ' + str(d8_dice))\n",
    "        elif user_roll.lower() == 'd10':\n",
    "            print('Roll: ' + str(d10_dice))\n",
    "        elif user_roll.lower() == 'd12':\n",
    "            print('Roll: ' + str(d12_dice))\n",
    "        elif user_roll.lower() == 'd20':\n",
    "            print('Roll: ' + str(d20_dice))\n",
    "        elif user_roll.lower() == 'd100':\n",
    "            print('Roll: ' + str(d100_dice))\n",
    "\n",
    "        \n",
    "        roll_again = str(input(\"\\nDo you want to roll again? yes or no: \\n\"))\n",
    "\n",
    "        if roll_again.lower() == \"yes\":\n",
    "            dice_roll == True\n",
    "        else:\n",
    "            print(\"\\nDone\")\n",
    "            break\n",
    "\n",
    "dice_roll()"
   ]
  },
  {
   "cell_type": "code",
   "execution_count": null,
   "id": "2bec8024-a20a-43cf-8bc2-0c3a361ceaae",
   "metadata": {},
   "outputs": [],
   "source": [
    "fd"
   ]
  }
 ],
 "metadata": {
  "kernelspec": {
   "display_name": "Python 3 (ipykernel)",
   "language": "python",
   "name": "python3"
  },
  "language_info": {
   "codemirror_mode": {
    "name": "ipython",
    "version": 3
   },
   "file_extension": ".py",
   "mimetype": "text/x-python",
   "name": "python",
   "nbconvert_exporter": "python",
   "pygments_lexer": "ipython3",
   "version": "3.12.2"
  }
 },
 "nbformat": 4,
 "nbformat_minor": 5
}
